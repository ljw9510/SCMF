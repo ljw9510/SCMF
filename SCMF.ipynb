{
 "cells": [
  {
   "cell_type": "markdown",
   "id": "d067d2be-4045-4a73-b029-fd8dff098008",
   "metadata": {},
   "source": [
    "## MNIST example with BCD and neural implementation"
   ]
  },
  {
   "cell_type": "code",
   "execution_count": 1,
   "id": "6e13c189-ffaf-4dd3-b2dc-17566e87a57a",
   "metadata": {},
   "outputs": [
    {
     "name": "stderr",
     "output_type": "stream",
     "text": [
      "/Users/joowonlee/miniforge3/envs/tf/lib/python3.9/site-packages/sklearn/datasets/_openml.py:1022: FutureWarning: The default value of `parser` will change from `'liac-arff'` to `'auto'` in 1.4. You can set `parser='auto'` to silence this warning. Therefore, an `ImportError` will be raised from 1.4 if the dataset is dense and pandas is not installed. Note that the pandas parser may return different data types. See the Notes Section in fetch_openml's API doc for details.\n",
      "  warn(\n"
     ]
    }
   ],
   "source": [
    "import numpy as np\n",
    "from sklearn.datasets import fetch_openml\n",
    "from sklearn.model_selection import train_test_split\n",
    "import matplotlib.pyplot as plt\n",
    "\n",
    "# Load data\n",
    "np.random.seed(1)\n",
    "X, y = fetch_openml('mnist_784', version = 1, return_X_y = True) # pandas dataframe\n",
    "X = X / 255.\n",
    "X = np.asarray(X)\n",
    "Y = y.astype(int)\n",
    "\n",
    "X0, Y0 = X[0:10000,:], Y[0:10000]\n",
    "X_train, X_test, Y_train, Y_test = train_test_split(X0, Y0, test_size=0.2, random_state=2)\n",
    "y_train0 = np.where(Y_train == 3, 1, 0)\n",
    "y_test0 = np.where(Y_test == 3, 1, 0)"
   ]
  },
  {
   "cell_type": "code",
   "execution_count": 4,
   "id": "d34ae644-1a46-41a0-8add-61ff55171ae8",
   "metadata": {
    "scrolled": true
   },
   "outputs": [
    {
     "name": "stdout",
     "output_type": "stream",
     "text": [
      "--- Training --- [threshold, AUC] =  [0.247, 0.638]\n",
      "--- Iteration -1: Training loss --- [Data, Label, Total] = [214077.463446.3, 3733.349361.3, 217810.812807.3]\n",
      "Epoch [10/500],Loss_Classification: 6840.0513 Loss_MF: 0.0822\n",
      "mythre= 0.24700604\n",
      "mythre_test= 0.091526486\n",
      "Test accuracy = 0.947, Test AUC = 0.965\n",
      "--- Training --- [threshold, AUC] =  [0.105, 0.954]\n",
      "--- Iteration 9: Training loss --- [Data, Label, Total] = [513435.487970.3, 1054.464444.3, 514489.952414.3]\n",
      "Epoch [20/500],Loss_Classification: 6840.0513 Loss_MF: 0.0791\n",
      "mythre= 0.10475183\n",
      "mythre_test= 0.091526486\n",
      "Test accuracy = 0.929, Test AUC = 0.965\n",
      "--- Training --- [threshold, AUC] =  [0.105, 0.954]\n",
      "--- Iteration 19: Training loss --- [Data, Label, Total] = [494346.743361.3, 1054.464444.3, 495401.207805.3]\n",
      "Epoch [30/500],Loss_Classification: 6840.0513 Loss_MF: 0.0766\n",
      "mythre= 0.10475183\n",
      "mythre_test= 0.091526486\n",
      "Test accuracy = 0.929, Test AUC = 0.965\n",
      "--- Training --- [threshold, AUC] =  [0.105, 0.954]\n",
      "--- Iteration 29: Training loss --- [Data, Label, Total] = [479288.907204.3, 1054.464444.3, 480343.371648.3]\n",
      "Epoch [40/500],Loss_Classification: 6840.0513 Loss_MF: 0.0747\n",
      "mythre= 0.10475183\n",
      "mythre_test= 0.091526486\n",
      "Test accuracy = 0.929, Test AUC = 0.965\n",
      "--- Training --- [threshold, AUC] =  [0.105, 0.954]\n",
      "--- Iteration 39: Training loss --- [Data, Label, Total] = [467322.778969.3, 1054.464444.3, 468377.243413.3]\n",
      "Epoch [50/500],Loss_Classification: 6840.0513 Loss_MF: 0.0731\n",
      "mythre= 0.10475183\n",
      "mythre_test= 0.091526486\n",
      "Test accuracy = 0.929, Test AUC = 0.965\n",
      "--- Training --- [threshold, AUC] =  [0.105, 0.954]\n",
      "--- Iteration 49: Training loss --- [Data, Label, Total] = [457701.221586.3, 1054.464444.3, 458755.686030.3]\n",
      "Epoch [60/500],Loss_Classification: 6840.0513 Loss_MF: 0.0718\n",
      "mythre= 0.10475183\n",
      "mythre_test= 0.091526486\n",
      "Test accuracy = 0.929, Test AUC = 0.965\n",
      "--- Training --- [threshold, AUC] =  [0.105, 0.954]\n",
      "--- Iteration 59: Training loss --- [Data, Label, Total] = [449871.992875.3, 1054.464444.3, 450926.457319.3]\n",
      "Epoch [70/500],Loss_Classification: 6840.0513 Loss_MF: 0.0708\n",
      "mythre= 0.10475183\n",
      "mythre_test= 0.091526486\n",
      "Test accuracy = 0.929, Test AUC = 0.965\n",
      "--- Training --- [threshold, AUC] =  [0.105, 0.954]\n",
      "--- Iteration 69: Training loss --- [Data, Label, Total] = [443381.631154.3, 1054.464444.3, 444436.095598.3]\n",
      "Epoch [80/500],Loss_Classification: 6840.0513 Loss_MF: 0.0699\n",
      "mythre= 0.10475183\n",
      "mythre_test= 0.091526486\n",
      "Test accuracy = 0.929, Test AUC = 0.965\n",
      "--- Training --- [threshold, AUC] =  [0.105, 0.954]\n",
      "--- Iteration 79: Training loss --- [Data, Label, Total] = [437943.759449.3, 1054.464444.3, 438998.223893.3]\n",
      "Epoch [90/500],Loss_Classification: 6840.0513 Loss_MF: 0.0692\n",
      "mythre= 0.10475183\n",
      "mythre_test= 0.091526486\n",
      "Test accuracy = 0.929, Test AUC = 0.965\n",
      "--- Training --- [threshold, AUC] =  [0.105, 0.954]\n",
      "--- Iteration 89: Training loss --- [Data, Label, Total] = [433400.822281.3, 1054.464444.3, 434455.286726.3]\n",
      "Epoch [100/500],Loss_Classification: 6840.0513 Loss_MF: 0.0685\n",
      "mythre= 0.10475183\n",
      "mythre_test= 0.091526486\n",
      "Test accuracy = 0.929, Test AUC = 0.965\n",
      "--- Training --- [threshold, AUC] =  [0.105, 0.954]\n",
      "--- Iteration 99: Training loss --- [Data, Label, Total] = [429604.157117.3, 1054.464444.3, 430658.621561.3]\n",
      "Epoch [110/500],Loss_Classification: 6840.0513 Loss_MF: 0.0680\n",
      "mythre= 0.10475183\n",
      "mythre_test= 0.091526486\n",
      "Test accuracy = 0.929, Test AUC = 0.965\n",
      "--- Training --- [threshold, AUC] =  [0.105, 0.954]\n",
      "--- Iteration 109: Training loss --- [Data, Label, Total] = [426434.029908.3, 1054.464444.3, 427488.494352.3]\n",
      "Epoch [120/500],Loss_Classification: 6840.0513 Loss_MF: 0.0676\n",
      "mythre= 0.10475183\n",
      "mythre_test= 0.091526486\n",
      "Test accuracy = 0.929, Test AUC = 0.965\n",
      "--- Training --- [threshold, AUC] =  [0.105, 0.954]\n",
      "--- Iteration 119: Training loss --- [Data, Label, Total] = [423778.669850.3, 1054.464444.3, 424833.134294.3]\n",
      "Epoch [130/500],Loss_Classification: 6840.0513 Loss_MF: 0.0672\n",
      "mythre= 0.10475183\n",
      "mythre_test= 0.091526486\n",
      "Test accuracy = 0.929, Test AUC = 0.965\n",
      "--- Training --- [threshold, AUC] =  [0.105, 0.954]\n",
      "--- Iteration 129: Training loss --- [Data, Label, Total] = [421543.870408.3, 1054.464444.3, 422598.334852.3]\n",
      "Epoch [140/500],Loss_Classification: 6840.0513 Loss_MF: 0.0669\n",
      "mythre= 0.10475183\n",
      "mythre_test= 0.091526486\n",
      "Test accuracy = 0.929, Test AUC = 0.965\n",
      "--- Training --- [threshold, AUC] =  [0.105, 0.954]\n",
      "--- Iteration 139: Training loss --- [Data, Label, Total] = [419668.784902.3, 1054.464444.3, 420723.249346.3]\n",
      "Epoch [150/500],Loss_Classification: 6840.0513 Loss_MF: 0.0667\n",
      "mythre= 0.10475183\n",
      "mythre_test= 0.091526486\n",
      "Test accuracy = 0.929, Test AUC = 0.965\n",
      "--- Training --- [threshold, AUC] =  [0.105, 0.954]\n",
      "--- Iteration 149: Training loss --- [Data, Label, Total] = [418096.106419.3, 1054.464444.3, 419150.570863.3]\n",
      "Epoch [160/500],Loss_Classification: 6840.0513 Loss_MF: 0.0665\n",
      "mythre= 0.10475183\n",
      "mythre_test= 0.091526486\n",
      "Test accuracy = 0.929, Test AUC = 0.965\n",
      "--- Training --- [threshold, AUC] =  [0.105, 0.954]\n",
      "--- Iteration 159: Training loss --- [Data, Label, Total] = [416784.591400.3, 1054.464444.3, 417839.055844.3]\n",
      "Epoch [170/500],Loss_Classification: 6840.0513 Loss_MF: 0.0663\n",
      "mythre= 0.10475183\n",
      "mythre_test= 0.091526486\n",
      "Test accuracy = 0.929, Test AUC = 0.965\n",
      "--- Training --- [threshold, AUC] =  [0.105, 0.954]\n",
      "--- Iteration 169: Training loss --- [Data, Label, Total] = [415692.803158.3, 1054.464444.3, 416747.267602.3]\n",
      "Epoch [180/500],Loss_Classification: 6840.0513 Loss_MF: 0.0661\n",
      "mythre= 0.10475183\n",
      "mythre_test= 0.091526486\n",
      "Test accuracy = 0.929, Test AUC = 0.965\n",
      "--- Training --- [threshold, AUC] =  [0.105, 0.954]\n",
      "--- Iteration 179: Training loss --- [Data, Label, Total] = [414788.672571.3, 1054.464444.3, 415843.137015.3]\n",
      "Epoch [190/500],Loss_Classification: 6840.0513 Loss_MF: 0.0660\n",
      "mythre= 0.10475183\n",
      "mythre_test= 0.091526486\n",
      "Test accuracy = 0.929, Test AUC = 0.965\n",
      "--- Training --- [threshold, AUC] =  [0.105, 0.954]\n",
      "--- Iteration 189: Training loss --- [Data, Label, Total] = [414046.769498.3, 1054.464444.3, 415101.233943.3]\n",
      "Epoch [200/500],Loss_Classification: 6840.0513 Loss_MF: 0.0659\n",
      "mythre= 0.10475183\n",
      "mythre_test= 0.091526486\n",
      "Test accuracy = 0.929, Test AUC = 0.965\n",
      "--- Training --- [threshold, AUC] =  [0.105, 0.954]\n",
      "--- Iteration 199: Training loss --- [Data, Label, Total] = [413441.229407.3, 1054.464444.3, 414495.693851.3]\n",
      "Epoch [210/500],Loss_Classification: 6840.0513 Loss_MF: 0.0658\n",
      "mythre= 0.10475183\n",
      "mythre_test= 0.091526486\n",
      "Test accuracy = 0.929, Test AUC = 0.965\n",
      "--- Training --- [threshold, AUC] =  [0.105, 0.954]\n",
      "--- Iteration 209: Training loss --- [Data, Label, Total] = [412948.063935.3, 1054.464444.3, 414002.528379.3]\n",
      "Epoch [220/500],Loss_Classification: 6840.0513 Loss_MF: 0.0658\n",
      "mythre= 0.10475183\n",
      "mythre_test= 0.091526486\n",
      "Test accuracy = 0.929, Test AUC = 0.965\n",
      "--- Training --- [threshold, AUC] =  [0.105, 0.954]\n",
      "--- Iteration 219: Training loss --- [Data, Label, Total] = [412552.567367.3, 1054.464444.3, 413607.031811.3]\n",
      "Epoch [230/500],Loss_Classification: 6840.0513 Loss_MF: 0.0657\n",
      "mythre= 0.10475183\n",
      "mythre_test= 0.091526486\n",
      "Test accuracy = 0.929, Test AUC = 0.965\n",
      "--- Training --- [threshold, AUC] =  [0.105, 0.954]\n",
      "--- Iteration 229: Training loss --- [Data, Label, Total] = [412237.121651.3, 1054.464444.3, 413291.586095.3]\n",
      "Epoch [240/500],Loss_Classification: 6840.0513 Loss_MF: 0.0657\n",
      "mythre= 0.10475183\n",
      "mythre_test= 0.091526486\n",
      "Test accuracy = 0.929, Test AUC = 0.965\n",
      "--- Training --- [threshold, AUC] =  [0.105, 0.954]\n",
      "--- Iteration 239: Training loss --- [Data, Label, Total] = [411988.001702.3, 1054.464444.3, 413042.466147.3]\n",
      "Epoch [250/500],Loss_Classification: 6840.0513 Loss_MF: 0.0657\n",
      "mythre= 0.10475183\n",
      "mythre_test= 0.091526486\n",
      "Test accuracy = 0.929, Test AUC = 0.965\n",
      "--- Training --- [threshold, AUC] =  [0.105, 0.954]\n",
      "--- Iteration 249: Training loss --- [Data, Label, Total] = [411793.005641.3, 1054.464444.3, 412847.470085.3]\n",
      "Epoch [260/500],Loss_Classification: 6840.0513 Loss_MF: 0.0656\n",
      "mythre= 0.10475183\n",
      "mythre_test= 0.091526486\n",
      "Test accuracy = 0.929, Test AUC = 0.965\n",
      "--- Training --- [threshold, AUC] =  [0.105, 0.954]\n",
      "--- Iteration 259: Training loss --- [Data, Label, Total] = [411642.226761.3, 1054.464444.3, 412696.691205.3]\n",
      "Epoch [270/500],Loss_Classification: 6840.0513 Loss_MF: 0.0656\n",
      "mythre= 0.10475183\n",
      "mythre_test= 0.091526486\n",
      "Test accuracy = 0.929, Test AUC = 0.965\n",
      "--- Training --- [threshold, AUC] =  [0.105, 0.954]\n",
      "--- Iteration 269: Training loss --- [Data, Label, Total] = [411527.888203.3, 1054.464444.3, 412582.352647.3]\n",
      "Epoch [280/500],Loss_Classification: 6840.0513 Loss_MF: 0.0656\n",
      "mythre= 0.10475183\n",
      "mythre_test= 0.091526486\n",
      "Test accuracy = 0.929, Test AUC = 0.965\n",
      "--- Training --- [threshold, AUC] =  [0.105, 0.954]\n",
      "--- Iteration 279: Training loss --- [Data, Label, Total] = [411442.144707.3, 1054.464444.3, 412496.609151.3]\n",
      "Epoch [290/500],Loss_Classification: 6840.0513 Loss_MF: 0.0656\n",
      "mythre= 0.10475183\n",
      "mythre_test= 0.091526486\n",
      "Test accuracy = 0.929, Test AUC = 0.965\n",
      "--- Training --- [threshold, AUC] =  [0.105, 0.954]\n",
      "--- Iteration 289: Training loss --- [Data, Label, Total] = [411378.332287.3, 1054.464444.3, 412432.796731.3]\n",
      "Epoch [300/500],Loss_Classification: 6840.0513 Loss_MF: 0.0656\n",
      "mythre= 0.10475183\n",
      "mythre_test= 0.091526486\n",
      "Test accuracy = 0.929, Test AUC = 0.965\n",
      "--- Training --- [threshold, AUC] =  [0.105, 0.954]\n",
      "--- Iteration 299: Training loss --- [Data, Label, Total] = [411332.218171.3, 1054.464444.3, 412386.682615.3]\n",
      "Epoch [310/500],Loss_Classification: 6840.0513 Loss_MF: 0.0656\n",
      "mythre= 0.10475183\n",
      "mythre_test= 0.091526486\n",
      "Test accuracy = 0.929, Test AUC = 0.965\n",
      "--- Training --- [threshold, AUC] =  [0.105, 0.954]\n",
      "--- Iteration 309: Training loss --- [Data, Label, Total] = [411299.102158.3, 1054.464444.3, 412353.566602.3]\n",
      "Epoch [320/500],Loss_Classification: 6840.0513 Loss_MF: 0.0656\n",
      "mythre= 0.10475183\n",
      "mythre_test= 0.091526486\n",
      "Test accuracy = 0.929, Test AUC = 0.965\n",
      "--- Training --- [threshold, AUC] =  [0.105, 0.954]\n",
      "--- Iteration 319: Training loss --- [Data, Label, Total] = [411275.773001.3, 1054.464444.3, 412330.237445.3]\n",
      "Epoch [330/500],Loss_Classification: 6840.0513 Loss_MF: 0.0656\n",
      "mythre= 0.10475183\n",
      "mythre_test= 0.091526486\n",
      "Test accuracy = 0.929, Test AUC = 0.965\n",
      "--- Training --- [threshold, AUC] =  [0.105, 0.954]\n",
      "--- Iteration 329: Training loss --- [Data, Label, Total] = [411260.116220.3, 1054.464444.3, 412314.580664.3]\n",
      "Epoch [340/500],Loss_Classification: 6840.0513 Loss_MF: 0.0656\n",
      "mythre= 0.10475183\n",
      "mythre_test= 0.091526486\n",
      "Test accuracy = 0.929, Test AUC = 0.965\n",
      "--- Training --- [threshold, AUC] =  [0.105, 0.954]\n",
      "--- Iteration 339: Training loss --- [Data, Label, Total] = [411249.548061.3, 1054.464444.3, 412304.012505.3]\n",
      "Epoch [350/500],Loss_Classification: 6840.0513 Loss_MF: 0.0656\n",
      "mythre= 0.10475183\n",
      "mythre_test= 0.091526486\n",
      "Test accuracy = 0.929, Test AUC = 0.965\n",
      "--- Training --- [threshold, AUC] =  [0.105, 0.954]\n",
      "--- Iteration 349: Training loss --- [Data, Label, Total] = [411242.580979.3, 1054.464444.3, 412297.045423.3]\n",
      "Epoch [360/500],Loss_Classification: 6840.0513 Loss_MF: 0.0656\n",
      "mythre= 0.10475183\n",
      "mythre_test= 0.091526486\n",
      "Test accuracy = 0.929, Test AUC = 0.965\n",
      "--- Training --- [threshold, AUC] =  [0.105, 0.954]\n",
      "--- Iteration 359: Training loss --- [Data, Label, Total] = [411238.197227.3, 1054.464444.3, 412292.661671.3]\n",
      "Epoch [370/500],Loss_Classification: 6840.0513 Loss_MF: 0.0656\n",
      "mythre= 0.10475183\n",
      "mythre_test= 0.091526486\n",
      "Test accuracy = 0.929, Test AUC = 0.965\n",
      "--- Training --- [threshold, AUC] =  [0.105, 0.954]\n",
      "--- Iteration 369: Training loss --- [Data, Label, Total] = [411235.457394.3, 1054.464444.3, 412289.921838.3]\n",
      "Epoch [380/500],Loss_Classification: 6840.0513 Loss_MF: 0.0656\n",
      "mythre= 0.10475183\n",
      "mythre_test= 0.091526486\n",
      "Test accuracy = 0.929, Test AUC = 0.965\n",
      "--- Training --- [threshold, AUC] =  [0.105, 0.954]\n",
      "--- Iteration 379: Training loss --- [Data, Label, Total] = [411233.970060.3, 1054.464444.3, 412288.434504.3]\n",
      "Epoch [390/500],Loss_Classification: 6840.0513 Loss_MF: 0.0656\n",
      "mythre= 0.10475183\n",
      "mythre_test= 0.091526486\n",
      "Test accuracy = 0.929, Test AUC = 0.965\n",
      "--- Training --- [threshold, AUC] =  [0.105, 0.954]\n",
      "--- Iteration 389: Training loss --- [Data, Label, Total] = [411232.952412.3, 1054.464444.3, 412287.416856.3]\n",
      "Epoch [400/500],Loss_Classification: 6840.0513 Loss_MF: 0.0656\n",
      "mythre= 0.10475183\n",
      "mythre_test= 0.091526486\n",
      "Test accuracy = 0.929, Test AUC = 0.965\n",
      "--- Training --- [threshold, AUC] =  [0.105, 0.954]\n",
      "--- Iteration 399: Training loss --- [Data, Label, Total] = [411232.561009.3, 1054.464444.3, 412287.025453.3]\n",
      "Epoch [410/500],Loss_Classification: 6840.0513 Loss_MF: 0.0656\n",
      "mythre= 0.10475183\n",
      "mythre_test= 0.091526486\n",
      "Test accuracy = 0.929, Test AUC = 0.965\n",
      "--- Training --- [threshold, AUC] =  [0.105, 0.954]\n",
      "--- Iteration 409: Training loss --- [Data, Label, Total] = [411232.404448.3, 1054.464444.3, 412286.868892.3]\n",
      "Epoch [420/500],Loss_Classification: 6840.0513 Loss_MF: 0.0656\n",
      "mythre= 0.10475183\n",
      "mythre_test= 0.091526486\n",
      "Test accuracy = 0.929, Test AUC = 0.965\n",
      "--- Training --- [threshold, AUC] =  [0.105, 0.954]\n",
      "--- Iteration 419: Training loss --- [Data, Label, Total] = [411232.247887.3, 1054.464444.3, 412286.712331.3]\n",
      "Epoch [430/500],Loss_Classification: 6840.0513 Loss_MF: 0.0656\n",
      "mythre= 0.10475183\n",
      "mythre_test= 0.091526486\n",
      "Test accuracy = 0.929, Test AUC = 0.965\n",
      "--- Training --- [threshold, AUC] =  [0.105, 0.954]\n",
      "--- Iteration 429: Training loss --- [Data, Label, Total] = [411232.013045.3, 1054.464444.3, 412286.477490.3]\n",
      "Epoch [440/500],Loss_Classification: 6840.0513 Loss_MF: 0.0656\n",
      "mythre= 0.10475183\n",
      "mythre_test= 0.091526486\n",
      "Test accuracy = 0.929, Test AUC = 0.965\n",
      "--- Training --- [threshold, AUC] =  [0.105, 0.954]\n",
      "--- Iteration 439: Training loss --- [Data, Label, Total] = [411232.247887.3, 1054.464444.3, 412286.712331.3]\n",
      "Epoch [450/500],Loss_Classification: 6840.0513 Loss_MF: 0.0656\n",
      "mythre= 0.10475183\n",
      "mythre_test= 0.091526486\n",
      "Test accuracy = 0.929, Test AUC = 0.965\n",
      "--- Training --- [threshold, AUC] =  [0.105, 0.954]\n",
      "--- Iteration 449: Training loss --- [Data, Label, Total] = [411232.247887.3, 1054.464444.3, 412286.712331.3]\n",
      "Epoch [460/500],Loss_Classification: 6840.0513 Loss_MF: 0.0656\n",
      "mythre= 0.10475183\n",
      "mythre_test= 0.091526486\n",
      "Test accuracy = 0.929, Test AUC = 0.965\n",
      "--- Training --- [threshold, AUC] =  [0.105, 0.954]\n",
      "--- Iteration 459: Training loss --- [Data, Label, Total] = [411232.091326.3, 1054.464444.3, 412286.555770.3]\n",
      "Epoch [470/500],Loss_Classification: 6840.0513 Loss_MF: 0.0656\n",
      "mythre= 0.10475183\n",
      "mythre_test= 0.091526486\n",
      "Test accuracy = 0.929, Test AUC = 0.965\n",
      "--- Training --- [threshold, AUC] =  [0.105, 0.954]\n",
      "--- Iteration 469: Training loss --- [Data, Label, Total] = [411232.247887.3, 1054.464444.3, 412286.712331.3]\n",
      "Epoch [480/500],Loss_Classification: 6840.0513 Loss_MF: 0.0656\n",
      "mythre= 0.10475183\n",
      "mythre_test= 0.091526486\n",
      "Test accuracy = 0.929, Test AUC = 0.965\n",
      "--- Training --- [threshold, AUC] =  [0.105, 0.954]\n",
      "--- Iteration 479: Training loss --- [Data, Label, Total] = [411232.169606.3, 1054.464444.3, 412286.634051.3]\n",
      "Epoch [490/500],Loss_Classification: 6840.0513 Loss_MF: 0.0656\n",
      "mythre= 0.10475183\n",
      "mythre_test= 0.091526486\n",
      "Test accuracy = 0.929, Test AUC = 0.965\n",
      "--- Training --- [threshold, AUC] =  [0.105, 0.954]\n",
      "--- Iteration 489: Training loss --- [Data, Label, Total] = [411232.169606.3, 1054.464444.3, 412286.634051.3]\n",
      "Epoch [500/500],Loss_Classification: 6840.0513 Loss_MF: 0.0656\n",
      "mythre= 0.10475183\n",
      "mythre_test= 0.091526486\n",
      "Test accuracy = 0.929, Test AUC = 0.965\n",
      "--- Training --- [threshold, AUC] =  [0.105, 0.954]\n",
      "--- Iteration 499: Training loss --- [Data, Label, Total] = [411232.091326.3, 1054.464444.3, 412286.555770.3]\n"
     ]
    }
   ],
   "source": [
    "# Neural implementation\n",
    "\n",
    "import torch\n",
    "import src.SCMF_torch\n",
    "\n",
    "X_train_torch = src.SCMF_torch.Variable(torch.from_numpy(X_train)).float()\n",
    "y_train_torch = src.SCMF_torch.Variable(torch.from_numpy(y_train0)).long()\n",
    "X_test_torch = src.SCMF_torch.Variable(torch.from_numpy(X_test)).float()\n",
    "y_test_torch = src.SCMF_torch.Variable(torch.from_numpy(y_test0)).long()\n",
    "\n",
    "scmf_model = src.SCMF_torch.scmf(X_train_torch, y_train_torch, hidden_size = 10, output_size = 1)\n",
    "results_dict = scmf_model.fit(num_epochs=500,\n",
    "               lr_classification=0.1,\n",
    "               lr_matrix_factorization=1,\n",
    "               xi=1,\n",
    "               initialize='spectral',\n",
    "               ini_loading = None,\n",
    "               ini_code = None,\n",
    "               W_nonnegativity=True,\n",
    "               H_nonnegativity=True,\n",
    "               test_data=[X_test_torch, y_test_torch],\n",
    "               record_recons_error=True)"
   ]
  },
  {
   "cell_type": "code",
   "execution_count": 5,
   "id": "7ba96874-0025-4648-a52a-71260612d827",
   "metadata": {},
   "outputs": [
    {
     "data": {
      "image/png": "[encoded data removed]",
      "text/plain": [
       "<Figure size 500x200 with 10 Axes>"
      ]
     },
     "metadata": {},
     "output_type": "display_data"
    },
    {
     "name": "stdout",
     "output_type": "stream",
     "text": [
      "[[-3.426036   0.9374258  2.5996926 -1.7615857 -2.2773795  1.9342525\n",
      "   0.6488114 -2.3625405 -0.6389883 -2.0236495 -1.4767333]]\n"
     ]
    }
   ],
   "source": [
    "src.SCMF_torch.display_dictionary(results_dict[\"loading\"][0], grid_shape = [2,5])\n",
    "print(results_dict[\"loading\"][1])"
   ]
  },
  {
   "cell_type": "code",
   "execution_count": 8,
   "id": "20e94e6f-ceb6-4de2-a241-08f0adc28072",
   "metadata": {},
   "outputs": [
    {
     "name": "stderr",
     "output_type": "stream",
     "text": [
      "/Users/joowonlee/miniforge3/envs/tf/lib/python3.9/site-packages/sklearn/utils/validation.py:1183: DataConversionWarning: A column-vector y was passed when a 1d array was expected. Please change the shape of y to (n_samples, ), for example using ravel().\n",
      "  y = column_or_1d(y, warn=True)\n",
      "/Users/joowonlee/miniforge3/envs/tf/lib/python3.9/site-packages/sklearn/utils/validation.py:1183: DataConversionWarning: A column-vector y was passed when a 1d array was expected. Please change the shape of y to (n_samples, ), for example using ravel().\n",
      "  y = column_or_1d(y, warn=True)\n"
     ]
    },
    {
     "name": "stdout",
     "output_type": "stream",
     "text": [
      "initial loading beta [[-3.79471554e+00 -3.17213463e-04  2.41281670e-03  4.28282880e-03\n",
      "   7.13156794e-03  5.39494217e-03  7.98426873e-04 -3.28086276e-03\n",
      "   1.05864323e-02 -2.60112319e-03 -3.91201011e-04]]\n"
     ]
    },
    {
     "name": "stderr",
     "output_type": "stream",
     "text": [
      "  0%|                                           | 1/500 [00:00<04:00,  2.08it/s]"
     ]
    },
    {
     "name": "stdout",
     "output_type": "stream",
     "text": [
      "--- Training --- [threshold, AUC] =  [0.141, 0.943]\n",
      "--- Iteration 0: Training loss --- [Data, Label, Total] = [704184.116026.3, 1223.316757.3, 705407.432783.3]\n"
     ]
    },
    {
     "name": "stderr",
     "output_type": "stream",
     "text": [
      "  2%|▊                                         | 10/500 [00:03<03:01,  2.70it/s]"
     ]
    },
    {
     "name": "stdout",
     "output_type": "stream",
     "text": [
      "--- Training --- [threshold, AUC] =  [0.122, 0.979]\n",
      "--- Iteration 10: Training loss --- [Data, Label, Total] = [700969.301378.3, 696.834282.3, 701666.135660.3]\n",
      "!!! pred_type filter\n",
      "--- Training --- [threshold, AUC] =  [0.122, 0.979]\n"
     ]
    },
    {
     "name": "stderr",
     "output_type": "stream",
     "text": [
      "  2%|▉                                         | 11/500 [00:04<06:24,  1.27it/s]"
     ]
    },
    {
     "name": "stdout",
     "output_type": "stream",
     "text": [
      "--- Validation --- [threshold, AUC, Accuracy, F score] =  [0.122, 0.98, 0.957, 0.831]\n"
     ]
    },
    {
     "name": "stderr",
     "output_type": "stream",
     "text": [
      "  4%|█▋                                        | 20/500 [00:07<02:15,  3.54it/s]"
     ]
    },
    {
     "name": "stdout",
     "output_type": "stream",
     "text": [
      "--- Training --- [threshold, AUC] =  [0.13, 0.979]\n",
      "--- Iteration 20: Training loss --- [Data, Label, Total] = [698349.535260.3, 680.755818.3, 699030.291078.3]\n",
      "!!! pred_type filter\n",
      "--- Training --- [threshold, AUC] =  [0.13, 0.979]\n"
     ]
    },
    {
     "name": "stderr",
     "output_type": "stream",
     "text": [
      "  4%|█▊                                        | 21/500 [00:08<05:09,  1.55it/s]"
     ]
    },
    {
     "name": "stdout",
     "output_type": "stream",
     "text": [
      "--- Validation --- [threshold, AUC, Accuracy, F score] =  [0.139, 0.981, 0.958, 0.832]\n"
     ]
    },
    {
     "name": "stderr",
     "output_type": "stream",
     "text": [
      "  6%|██▌                                       | 30/500 [00:12<02:41,  2.91it/s]"
     ]
    },
    {
     "name": "stdout",
     "output_type": "stream",
     "text": [
      "--- Training --- [threshold, AUC] =  [0.136, 0.98]\n",
      "--- Iteration 30: Training loss --- [Data, Label, Total] = [696040.313232.3, 682.913597.3, 696723.226829.3]\n",
      "!!! pred_type filter\n",
      "--- Training --- [threshold, AUC] =  [0.136, 0.98]\n"
     ]
    },
    {
     "name": "stderr",
     "output_type": "stream",
     "text": [
      "  6%|██▌                                       | 31/500 [00:13<04:47,  1.63it/s]"
     ]
    },
    {
     "name": "stdout",
     "output_type": "stream",
     "text": [
      "--- Validation --- [threshold, AUC, Accuracy, F score] =  [0.131, 0.981, 0.96, 0.838]\n"
     ]
    },
    {
     "name": "stderr",
     "output_type": "stream",
     "text": [
      "  8%|███▎                                      | 40/500 [00:16<02:29,  3.07it/s]"
     ]
    },
    {
     "name": "stdout",
     "output_type": "stream",
     "text": [
      "--- Training --- [threshold, AUC] =  [0.134, 0.979]\n",
      "--- Iteration 40: Training loss --- [Data, Label, Total] = [693959.826253.3, 691.092208.3, 694650.918462.3]\n",
      "!!! pred_type filter\n",
      "--- Training --- [threshold, AUC] =  [0.134, 0.979]\n"
     ]
    },
    {
     "name": "stderr",
     "output_type": "stream",
     "text": [
      "  8%|███▍                                      | 41/500 [00:18<05:19,  1.44it/s]"
     ]
    },
    {
     "name": "stdout",
     "output_type": "stream",
     "text": [
      "--- Validation --- [threshold, AUC, Accuracy, F score] =  [0.163, 0.981, 0.956, 0.826]\n"
     ]
    },
    {
     "name": "stderr",
     "output_type": "stream",
     "text": [
      " 10%|████▏                                     | 50/500 [00:21<02:40,  2.80it/s]"
     ]
    },
    {
     "name": "stdout",
     "output_type": "stream",
     "text": [
      "--- Training --- [threshold, AUC] =  [0.131, 0.979]\n",
      "--- Iteration 50: Training loss --- [Data, Label, Total] = [692053.590990.3, 701.585649.3, 692755.176639.3]\n",
      "!!! pred_type filter\n",
      "--- Training --- [threshold, AUC] =  [0.131, 0.979]\n"
     ]
    },
    {
     "name": "stderr",
     "output_type": "stream",
     "text": [
      " 10%|████▎                                     | 51/500 [00:23<05:45,  1.30it/s]"
     ]
    },
    {
     "name": "stdout",
     "output_type": "stream",
     "text": [
      "--- Validation --- [threshold, AUC, Accuracy, F score] =  [0.168, 0.981, 0.952, 0.813]\n"
     ]
    },
    {
     "name": "stderr",
     "output_type": "stream",
     "text": [
      " 12%|█████                                     | 60/500 [00:27<03:04,  2.39it/s]"
     ]
    },
    {
     "name": "stdout",
     "output_type": "stream",
     "text": [
      "--- Training --- [threshold, AUC] =  [0.142, 0.979]\n",
      "--- Iteration 60: Training loss --- [Data, Label, Total] = [690315.269940.3, 707.295160.3, 691022.565100.3]\n",
      "!!! pred_type filter\n",
      "--- Training --- [threshold, AUC] =  [0.142, 0.979]\n"
     ]
    },
    {
     "name": "stderr",
     "output_type": "stream",
     "text": [
      " 12%|█████                                     | 61/500 [00:29<05:28,  1.34it/s]"
     ]
    },
    {
     "name": "stdout",
     "output_type": "stream",
     "text": [
      "--- Validation --- [threshold, AUC, Accuracy, F score] =  [0.17, 0.981, 0.957, 0.829]\n"
     ]
    },
    {
     "name": "stderr",
     "output_type": "stream",
     "text": [
      " 14%|█████▉                                    | 70/500 [00:32<02:37,  2.72it/s]"
     ]
    },
    {
     "name": "stdout",
     "output_type": "stream",
     "text": [
      "--- Training --- [threshold, AUC] =  [0.132, 0.979]\n",
      "--- Iteration 70: Training loss --- [Data, Label, Total] = [688695.372887.3, 715.326831.3, 689410.699718.3]\n",
      "!!! pred_type filter\n",
      "--- Training --- [threshold, AUC] =  [0.132, 0.979]\n"
     ]
    },
    {
     "name": "stderr",
     "output_type": "stream",
     "text": [
      " 14%|█████▉                                    | 71/500 [00:34<05:01,  1.42it/s]"
     ]
    },
    {
     "name": "stdout",
     "output_type": "stream",
     "text": [
      "--- Validation --- [threshold, AUC, Accuracy, F score] =  [0.17, 0.981, 0.95, 0.808]\n"
     ]
    },
    {
     "name": "stderr",
     "output_type": "stream",
     "text": [
      " 16%|██████▋                                   | 80/500 [00:37<02:39,  2.63it/s]"
     ]
    },
    {
     "name": "stdout",
     "output_type": "stream",
     "text": [
      "--- Training --- [threshold, AUC] =  [0.131, 0.979]\n",
      "--- Iteration 80: Training loss --- [Data, Label, Total] = [687134.240288.3, 720.066066.3, 687854.306354.3]\n",
      "!!! pred_type filter\n",
      "--- Training --- [threshold, AUC] =  [0.131, 0.979]\n"
     ]
    },
    {
     "name": "stderr",
     "output_type": "stream",
     "text": [
      " 16%|██████▊                                   | 81/500 [00:39<05:01,  1.39it/s]"
     ]
    },
    {
     "name": "stdout",
     "output_type": "stream",
     "text": [
      "--- Validation --- [threshold, AUC, Accuracy, F score] =  [0.166, 0.981, 0.95, 0.806]\n"
     ]
    },
    {
     "name": "stderr",
     "output_type": "stream",
     "text": [
      " 18%|███████▌                                  | 90/500 [00:42<02:40,  2.56it/s]"
     ]
    },
    {
     "name": "stdout",
     "output_type": "stream",
     "text": [
      "--- Training --- [threshold, AUC] =  [0.137, 0.979]\n",
      "--- Iteration 90: Training loss --- [Data, Label, Total] = [685612.331982.3, 723.230913.3, 686335.562894.3]\n",
      "!!! pred_type filter\n",
      "--- Training --- [threshold, AUC] =  [0.137, 0.979]\n"
     ]
    },
    {
     "name": "stderr",
     "output_type": "stream",
     "text": [
      " 18%|███████▋                                  | 91/500 [00:44<04:42,  1.45it/s]"
     ]
    },
    {
     "name": "stdout",
     "output_type": "stream",
     "text": [
      "--- Validation --- [threshold, AUC, Accuracy, F score] =  [0.168, 0.981, 0.953, 0.816]\n"
     ]
    },
    {
     "name": "stderr",
     "output_type": "stream",
     "text": [
      " 20%|████████▏                                | 100/500 [00:47<02:32,  2.62it/s]"
     ]
    },
    {
     "name": "stdout",
     "output_type": "stream",
     "text": [
      "--- Training --- [threshold, AUC] =  [0.136, 0.979]\n",
      "--- Iteration 100: Training loss --- [Data, Label, Total] = [684130.732983.3, 727.286936.3, 684858.019919.3]\n",
      "!!! pred_type filter\n",
      "--- Training --- [threshold, AUC] =  [0.136, 0.979]\n"
     ]
    },
    {
     "name": "stderr",
     "output_type": "stream",
     "text": [
      " 20%|████████▎                                | 101/500 [00:48<04:51,  1.37it/s]"
     ]
    },
    {
     "name": "stdout",
     "output_type": "stream",
     "text": [
      "--- Validation --- [threshold, AUC, Accuracy, F score] =  [0.167, 0.981, 0.952, 0.812]\n"
     ]
    },
    {
     "name": "stderr",
     "output_type": "stream",
     "text": [
      " 22%|█████████                                | 110/500 [00:52<02:42,  2.40it/s]"
     ]
    },
    {
     "name": "stdout",
     "output_type": "stream",
     "text": [
      "--- Training --- [threshold, AUC] =  [0.136, 0.978]\n",
      "--- Iteration 110: Training loss --- [Data, Label, Total] = [682701.430393.3, 732.405279.3, 683433.835672.3]\n",
      "!!! pred_type filter\n",
      "--- Training --- [threshold, AUC] =  [0.136, 0.978]\n"
     ]
    },
    {
     "name": "stderr",
     "output_type": "stream",
     "text": [
      " 22%|█████████                                | 111/500 [00:54<04:44,  1.37it/s]"
     ]
    },
    {
     "name": "stdout",
     "output_type": "stream",
     "text": [
      "--- Validation --- [threshold, AUC, Accuracy, F score] =  [0.16, 0.98, 0.951, 0.81]\n"
     ]
    },
    {
     "name": "stderr",
     "output_type": "stream",
     "text": [
      " 24%|█████████▊                               | 120/500 [00:57<02:17,  2.77it/s]"
     ]
    },
    {
     "name": "stdout",
     "output_type": "stream",
     "text": [
      "--- Training --- [threshold, AUC] =  [0.141, 0.978]\n",
      "--- Iteration 120: Training loss --- [Data, Label, Total] = [681297.458637.3, 736.317507.3, 682033.776144.3]\n",
      "!!! pred_type filter\n",
      "--- Training --- [threshold, AUC] =  [0.141, 0.978]\n"
     ]
    },
    {
     "name": "stderr",
     "output_type": "stream",
     "text": [
      " 24%|█████████▉                               | 121/500 [00:58<04:17,  1.47it/s]"
     ]
    },
    {
     "name": "stdout",
     "output_type": "stream",
     "text": [
      "--- Validation --- [threshold, AUC, Accuracy, F score] =  [0.188, 0.98, 0.954, 0.819]\n"
     ]
    },
    {
     "name": "stderr",
     "output_type": "stream",
     "text": [
      " 26%|██████████▋                              | 130/500 [01:01<02:13,  2.77it/s]"
     ]
    },
    {
     "name": "stdout",
     "output_type": "stream",
     "text": [
      "--- Training --- [threshold, AUC] =  [0.143, 0.978]\n",
      "--- Iteration 130: Training loss --- [Data, Label, Total] = [679908.783423.3, 739.834786.3, 680648.618209.3]\n",
      "!!! pred_type filter\n",
      "--- Training --- [threshold, AUC] =  [0.143, 0.978]\n"
     ]
    },
    {
     "name": "stderr",
     "output_type": "stream",
     "text": [
      " 26%|██████████▋                              | 131/500 [01:03<04:12,  1.46it/s]"
     ]
    },
    {
     "name": "stdout",
     "output_type": "stream",
     "text": [
      "--- Validation --- [threshold, AUC, Accuracy, F score] =  [0.19, 0.98, 0.956, 0.826]\n"
     ]
    },
    {
     "name": "stderr",
     "output_type": "stream",
     "text": [
      " 28%|███████████▍                             | 140/500 [01:06<02:07,  2.82it/s]"
     ]
    },
    {
     "name": "stdout",
     "output_type": "stream",
     "text": [
      "--- Training --- [threshold, AUC] =  [0.153, 0.978]\n",
      "--- Iteration 140: Training loss --- [Data, Label, Total] = [678552.399172.3, 743.251668.3, 679295.650840.3]\n",
      "!!! pred_type filter\n",
      "--- Training --- [threshold, AUC] =  [0.153, 0.978]\n"
     ]
    },
    {
     "name": "stderr",
     "output_type": "stream",
     "text": [
      " 28%|███████████▌                             | 141/500 [01:07<04:11,  1.43it/s]"
     ]
    },
    {
     "name": "stdout",
     "output_type": "stream",
     "text": [
      "--- Validation --- [threshold, AUC, Accuracy, F score] =  [0.19, 0.98, 0.958, 0.83]\n"
     ]
    },
    {
     "name": "stderr",
     "output_type": "stream",
     "text": [
      " 30%|████████████▎                            | 150/500 [01:10<02:00,  2.90it/s]"
     ]
    },
    {
     "name": "stdout",
     "output_type": "stream",
     "text": [
      "--- Training --- [threshold, AUC] =  [0.151, 0.978]\n",
      "--- Iteration 150: Training loss --- [Data, Label, Total] = [677216.673831.3, 746.264392.3, 677962.938224.3]\n",
      "!!! pred_type filter\n",
      "--- Training --- [threshold, AUC] =  [0.151, 0.978]\n"
     ]
    },
    {
     "name": "stderr",
     "output_type": "stream",
     "text": [
      " 30%|████████████▍                            | 151/500 [01:12<04:01,  1.44it/s]"
     ]
    },
    {
     "name": "stdout",
     "output_type": "stream",
     "text": [
      "--- Validation --- [threshold, AUC, Accuracy, F score] =  [0.189, 0.98, 0.957, 0.828]\n"
     ]
    },
    {
     "name": "stderr",
     "output_type": "stream",
     "text": [
      " 32%|█████████████                            | 160/500 [01:16<02:38,  2.14it/s]"
     ]
    },
    {
     "name": "stdout",
     "output_type": "stream",
     "text": [
      "--- Training --- [threshold, AUC] =  [0.149, 0.978]\n",
      "--- Iteration 160: Training loss --- [Data, Label, Total] = [675899.547525.3, 749.265493.3, 676648.813018.3]\n",
      "!!! pred_type filter\n",
      "--- Training --- [threshold, AUC] =  [0.149, 0.978]\n"
     ]
    },
    {
     "name": "stderr",
     "output_type": "stream",
     "text": [
      " 32%|█████████████▏                           | 161/500 [01:18<04:25,  1.28it/s]"
     ]
    },
    {
     "name": "stdout",
     "output_type": "stream",
     "text": [
      "--- Validation --- [threshold, AUC, Accuracy, F score] =  [0.147, 0.98, 0.956, 0.825]\n"
     ]
    },
    {
     "name": "stderr",
     "output_type": "stream",
     "text": [
      " 34%|█████████████▉                           | 170/500 [01:22<03:16,  1.68it/s]"
     ]
    },
    {
     "name": "stdout",
     "output_type": "stream",
     "text": [
      "--- Training --- [threshold, AUC] =  [0.15, 0.978]\n",
      "--- Iteration 170: Training loss --- [Data, Label, Total] = [674600.161329.3, 752.019885.3, 675352.181214.3]\n",
      "!!! pred_type filter\n",
      "--- Training --- [threshold, AUC] =  [0.15, 0.978]\n"
     ]
    },
    {
     "name": "stderr",
     "output_type": "stream",
     "text": [
      " 34%|██████████████                           | 171/500 [01:25<07:40,  1.40s/it]"
     ]
    },
    {
     "name": "stdout",
     "output_type": "stream",
     "text": [
      "--- Validation --- [threshold, AUC, Accuracy, F score] =  [0.189, 0.98, 0.956, 0.825]\n"
     ]
    },
    {
     "name": "stderr",
     "output_type": "stream",
     "text": [
      " 36%|██████████████▊                          | 180/500 [01:30<02:16,  2.34it/s]"
     ]
    },
    {
     "name": "stdout",
     "output_type": "stream",
     "text": [
      "--- Training --- [threshold, AUC] =  [0.149, 0.978]\n",
      "--- Iteration 180: Training loss --- [Data, Label, Total] = [673317.530819.3, 754.622744.3, 674072.153563.3]\n",
      "!!! pred_type filter\n",
      "--- Training --- [threshold, AUC] =  [0.149, 0.978]\n"
     ]
    },
    {
     "name": "stderr",
     "output_type": "stream",
     "text": [
      " 36%|██████████████▊                          | 181/500 [01:32<03:39,  1.45it/s]"
     ]
    },
    {
     "name": "stdout",
     "output_type": "stream",
     "text": [
      "--- Validation --- [threshold, AUC, Accuracy, F score] =  [0.147, 0.98, 0.956, 0.825]\n"
     ]
    },
    {
     "name": "stderr",
     "output_type": "stream",
     "text": [
      " 38%|███████████████▌                         | 190/500 [01:34<01:32,  3.35it/s]"
     ]
    },
    {
     "name": "stdout",
     "output_type": "stream",
     "text": [
      "--- Training --- [threshold, AUC] =  [0.13, 0.977]\n",
      "--- Iteration 190: Training loss --- [Data, Label, Total] = [672053.614996.3, 757.239723.3, 672810.854718.3]\n",
      "!!! pred_type filter\n",
      "--- Training --- [threshold, AUC] =  [0.13, 0.977]\n"
     ]
    },
    {
     "name": "stderr",
     "output_type": "stream",
     "text": [
      " 38%|███████████████▋                         | 191/500 [01:36<03:23,  1.52it/s]"
     ]
    },
    {
     "name": "stdout",
     "output_type": "stream",
     "text": [
      "--- Validation --- [threshold, AUC, Accuracy, F score] =  [0.145, 0.98, 0.946, 0.795]\n"
     ]
    },
    {
     "name": "stderr",
     "output_type": "stream",
     "text": [
      " 40%|████████████████▍                        | 200/500 [01:39<01:27,  3.42it/s]"
     ]
    },
    {
     "name": "stdout",
     "output_type": "stream",
     "text": [
      "--- Training --- [threshold, AUC] =  [0.145, 0.977]\n",
      "--- Iteration 200: Training loss --- [Data, Label, Total] = [670804.963594.3, 759.734478.3, 671564.698072.3]\n",
      "!!! pred_type filter\n",
      "--- Training --- [threshold, AUC] =  [0.145, 0.977]\n"
     ]
    },
    {
     "name": "stderr",
     "output_type": "stream",
     "text": [
      " 40%|████████████████▍                        | 201/500 [01:42<05:31,  1.11s/it]"
     ]
    },
    {
     "name": "stdout",
     "output_type": "stream",
     "text": [
      "--- Validation --- [threshold, AUC, Accuracy, F score] =  [0.189, 0.98, 0.956, 0.824]\n"
     ]
    },
    {
     "name": "stderr",
     "output_type": "stream",
     "text": [
      " 42%|█████████████████▏                       | 210/500 [01:46<02:03,  2.36it/s]"
     ]
    },
    {
     "name": "stdout",
     "output_type": "stream",
     "text": [
      "--- Training --- [threshold, AUC] =  [0.145, 0.977]\n",
      "--- Iteration 210: Training loss --- [Data, Label, Total] = [669570.642582.3, 762.143378.3, 670332.785960.3]\n",
      "!!! pred_type filter\n",
      "--- Training --- [threshold, AUC] =  [0.145, 0.977]\n"
     ]
    },
    {
     "name": "stderr",
     "output_type": "stream",
     "text": [
      " 42%|█████████████████▎                       | 211/500 [01:47<03:41,  1.31it/s]"
     ]
    },
    {
     "name": "stdout",
     "output_type": "stream",
     "text": [
      "--- Validation --- [threshold, AUC, Accuracy, F score] =  [0.189, 0.98, 0.956, 0.824]\n"
     ]
    },
    {
     "name": "stderr",
     "output_type": "stream",
     "text": [
      " 44%|██████████████████                       | 220/500 [01:51<01:49,  2.56it/s]"
     ]
    },
    {
     "name": "stdout",
     "output_type": "stream",
     "text": [
      "--- Training --- [threshold, AUC] =  [0.144, 0.977]\n",
      "--- Iteration 220: Training loss --- [Data, Label, Total] = [668349.652121.3, 764.461733.3, 669114.113854.3]\n",
      "!!! pred_type filter\n",
      "--- Training --- [threshold, AUC] =  [0.144, 0.977]\n"
     ]
    },
    {
     "name": "stderr",
     "output_type": "stream",
     "text": [
      " 44%|██████████████████                       | 221/500 [01:52<03:18,  1.41it/s]"
     ]
    },
    {
     "name": "stdout",
     "output_type": "stream",
     "text": [
      "--- Validation --- [threshold, AUC, Accuracy, F score] =  [0.187, 0.98, 0.954, 0.819]\n"
     ]
    },
    {
     "name": "stderr",
     "output_type": "stream",
     "text": [
      " 46%|██████████████████▊                      | 230/500 [01:55<01:35,  2.83it/s]"
     ]
    },
    {
     "name": "stdout",
     "output_type": "stream",
     "text": [
      "--- Training --- [threshold, AUC] =  [0.161, 0.977]\n",
      "--- Iteration 230: Training loss --- [Data, Label, Total] = [667141.350474.3, 766.703806.3, 667908.054280.3]\n",
      "!!! pred_type filter\n",
      "--- Training --- [threshold, AUC] =  [0.161, 0.977]\n"
     ]
    },
    {
     "name": "stderr",
     "output_type": "stream",
     "text": [
      " 46%|██████████████████▉                      | 231/500 [01:56<02:55,  1.53it/s]"
     ]
    },
    {
     "name": "stdout",
     "output_type": "stream",
     "text": [
      "--- Validation --- [threshold, AUC, Accuracy, F score] =  [0.185, 0.98, 0.96, 0.838]\n"
     ]
    },
    {
     "name": "stderr",
     "output_type": "stream",
     "text": [
      " 48%|███████████████████▋                     | 240/500 [01:59<01:31,  2.84it/s]"
     ]
    },
    {
     "name": "stdout",
     "output_type": "stream",
     "text": [
      "--- Training --- [threshold, AUC] =  [0.161, 0.977]\n",
      "--- Iteration 240: Training loss --- [Data, Label, Total] = [665945.032349.3, 768.871156.3, 666713.903505.3]\n",
      "!!! pred_type filter\n",
      "--- Training --- [threshold, AUC] =  [0.161, 0.977]\n"
     ]
    },
    {
     "name": "stderr",
     "output_type": "stream",
     "text": [
      " 48%|███████████████████▊                     | 241/500 [02:01<02:51,  1.51it/s]"
     ]
    },
    {
     "name": "stdout",
     "output_type": "stream",
     "text": [
      "--- Validation --- [threshold, AUC, Accuracy, F score] =  [0.157, 0.98, 0.96, 0.838]\n"
     ]
    },
    {
     "name": "stderr",
     "output_type": "stream",
     "text": [
      " 50%|████████████████████▌                    | 250/500 [02:04<01:27,  2.87it/s]"
     ]
    },
    {
     "name": "stdout",
     "output_type": "stream",
     "text": [
      "--- Training --- [threshold, AUC] =  [0.174, 0.977]\n",
      "--- Iteration 250: Training loss --- [Data, Label, Total] = [664760.182221.3, 770.957579.3, 665531.139800.3]\n",
      "!!! pred_type filter\n",
      "--- Training --- [threshold, AUC] =  [0.174, 0.977]\n"
     ]
    },
    {
     "name": "stderr",
     "output_type": "stream",
     "text": [
      " 50%|████████████████████▌                    | 251/500 [02:05<02:46,  1.50it/s]"
     ]
    },
    {
     "name": "stdout",
     "output_type": "stream",
     "text": [
      "--- Validation --- [threshold, AUC, Accuracy, F score] =  [0.158, 0.98, 0.963, 0.848]\n"
     ]
    },
    {
     "name": "stderr",
     "output_type": "stream",
     "text": [
      " 52%|█████████████████████▎                   | 260/500 [02:08<01:20,  3.00it/s]"
     ]
    },
    {
     "name": "stdout",
     "output_type": "stream",
     "text": [
      "--- Training --- [threshold, AUC] =  [0.174, 0.977]\n",
      "--- Iteration 260: Training loss --- [Data, Label, Total] = [663586.217384.3, 772.992428.3, 664359.209812.3]\n",
      "!!! pred_type filter\n",
      "--- Training --- [threshold, AUC] =  [0.174, 0.977]\n"
     ]
    },
    {
     "name": "stderr",
     "output_type": "stream",
     "text": [
      " 52%|█████████████████████▍                   | 261/500 [02:10<02:32,  1.57it/s]"
     ]
    },
    {
     "name": "stdout",
     "output_type": "stream",
     "text": [
      "--- Validation --- [threshold, AUC, Accuracy, F score] =  [0.158, 0.98, 0.963, 0.848]\n"
     ]
    },
    {
     "name": "stderr",
     "output_type": "stream",
     "text": [
      " 54%|██████████████████████▏                  | 270/500 [02:13<01:21,  2.82it/s]"
     ]
    },
    {
     "name": "stdout",
     "output_type": "stream",
     "text": [
      "--- Training --- [threshold, AUC] =  [0.173, 0.977]\n",
      "--- Iteration 270: Training loss --- [Data, Label, Total] = [662422.688314.3, 774.970421.3, 663197.658735.3]\n",
      "!!! pred_type filter\n",
      "--- Training --- [threshold, AUC] =  [0.173, 0.977]\n"
     ]
    },
    {
     "name": "stderr",
     "output_type": "stream",
     "text": [
      " 54%|██████████████████████▏                  | 271/500 [02:14<02:34,  1.48it/s]"
     ]
    },
    {
     "name": "stdout",
     "output_type": "stream",
     "text": [
      "--- Validation --- [threshold, AUC, Accuracy, F score] =  [0.159, 0.98, 0.962, 0.844]\n"
     ]
    },
    {
     "name": "stderr",
     "output_type": "stream",
     "text": [
      " 56%|██████████████████████▉                  | 280/500 [02:17<01:20,  2.75it/s]"
     ]
    },
    {
     "name": "stdout",
     "output_type": "stream",
     "text": [
      "--- Training --- [threshold, AUC] =  [0.175, 0.977]\n",
      "--- Iteration 280: Training loss --- [Data, Label, Total] = [661269.129068.3, 776.876353.3, 662046.005421.3]\n",
      "!!! pred_type filter\n",
      "--- Training --- [threshold, AUC] =  [0.175, 0.977]\n"
     ]
    },
    {
     "name": "stderr",
     "output_type": "stream",
     "text": [
      " 56%|███████████████████████                  | 281/500 [02:19<02:26,  1.50it/s]"
     ]
    },
    {
     "name": "stdout",
     "output_type": "stream",
     "text": [
      "--- Validation --- [threshold, AUC, Accuracy, F score] =  [0.16, 0.98, 0.963, 0.848]\n"
     ]
    },
    {
     "name": "stderr",
     "output_type": "stream",
     "text": [
      " 58%|███████████████████████▊                 | 290/500 [02:22<01:13,  2.86it/s]"
     ]
    },
    {
     "name": "stdout",
     "output_type": "stream",
     "text": [
      "--- Training --- [threshold, AUC] =  [0.176, 0.977]\n",
      "--- Iteration 290: Training loss --- [Data, Label, Total] = [660125.145811.3, 778.769947.3, 660903.915758.3]\n",
      "!!! pred_type filter\n",
      "--- Training --- [threshold, AUC] =  [0.176, 0.977]\n"
     ]
    },
    {
     "name": "stderr",
     "output_type": "stream",
     "text": [
      " 58%|███████████████████████▊                 | 291/500 [02:23<02:17,  1.52it/s]"
     ]
    },
    {
     "name": "stdout",
     "output_type": "stream",
     "text": [
      "--- Validation --- [threshold, AUC, Accuracy, F score] =  [0.16, 0.98, 0.962, 0.845]\n"
     ]
    },
    {
     "name": "stderr",
     "output_type": "stream",
     "text": [
      " 60%|████████████████████████▌                | 300/500 [02:26<01:08,  2.93it/s]"
     ]
    },
    {
     "name": "stdout",
     "output_type": "stream",
     "text": [
      "--- Training --- [threshold, AUC] =  [0.176, 0.977]\n",
      "--- Iteration 300: Training loss --- [Data, Label, Total] = [658990.415602.3, 780.589895.3, 659771.005497.3]\n",
      "!!! pred_type filter\n",
      "--- Training --- [threshold, AUC] =  [0.176, 0.977]\n"
     ]
    },
    {
     "name": "stderr",
     "output_type": "stream",
     "text": [
      " 60%|████████████████████████▋                | 301/500 [02:27<02:14,  1.48it/s]"
     ]
    },
    {
     "name": "stdout",
     "output_type": "stream",
     "text": [
      "--- Validation --- [threshold, AUC, Accuracy, F score] =  [0.16, 0.98, 0.962, 0.844]\n"
     ]
    },
    {
     "name": "stderr",
     "output_type": "stream",
     "text": [
      " 62%|█████████████████████████▍               | 310/500 [02:30<01:02,  3.02it/s]"
     ]
    },
    {
     "name": "stdout",
     "output_type": "stream",
     "text": [
      "--- Training --- [threshold, AUC] =  [0.176, 0.976]\n",
      "--- Iteration 310: Training loss --- [Data, Label, Total] = [657864.536338.3, 782.381956.3, 658646.918294.3]\n",
      "!!! pred_type filter\n",
      "--- Training --- [threshold, AUC] =  [0.176, 0.976]\n"
     ]
    },
    {
     "name": "stderr",
     "output_type": "stream",
     "text": [
      " 62%|█████████████████████████▌               | 311/500 [02:32<01:59,  1.58it/s]"
     ]
    },
    {
     "name": "stdout",
     "output_type": "stream",
     "text": [
      "--- Validation --- [threshold, AUC, Accuracy, F score] =  [0.16, 0.98, 0.962, 0.842]\n"
     ]
    },
    {
     "name": "stderr",
     "output_type": "stream",
     "text": [
      " 64%|██████████████████████████▏              | 320/500 [02:36<02:03,  1.46it/s]"
     ]
    },
    {
     "name": "stdout",
     "output_type": "stream",
     "text": [
      "--- Training --- [threshold, AUC] =  [0.174, 0.976]\n",
      "--- Iteration 320: Training loss --- [Data, Label, Total] = [656747.260106.3, 784.111645.3, 657531.371752.3]\n",
      "!!! pred_type filter\n",
      "--- Training --- [threshold, AUC] =  [0.174, 0.976]\n"
     ]
    },
    {
     "name": "stderr",
     "output_type": "stream",
     "text": [
      " 64%|██████████████████████████▎              | 321/500 [02:38<02:59,  1.01s/it]"
     ]
    },
    {
     "name": "stdout",
     "output_type": "stream",
     "text": [
      "--- Validation --- [threshold, AUC, Accuracy, F score] =  [0.16, 0.98, 0.961, 0.84]\n"
     ]
    },
    {
     "name": "stderr",
     "output_type": "stream",
     "text": [
      " 66%|███████████████████████████              | 330/500 [02:41<00:47,  3.57it/s]"
     ]
    },
    {
     "name": "stdout",
     "output_type": "stream",
     "text": [
      "--- Training --- [threshold, AUC] =  [0.176, 0.976]\n",
      "--- Iteration 330: Training loss --- [Data, Label, Total] = [655638.266440.3, 785.814607.3, 656424.081047.3]\n",
      "!!! pred_type filter\n",
      "--- Training --- [threshold, AUC] =  [0.176, 0.976]\n"
     ]
    },
    {
     "name": "stderr",
     "output_type": "stream",
     "text": [
      " 66%|███████████████████████████▏             | 331/500 [02:44<02:58,  1.06s/it]"
     ]
    },
    {
     "name": "stdout",
     "output_type": "stream",
     "text": [
      "--- Validation --- [threshold, AUC, Accuracy, F score] =  [0.16, 0.98, 0.961, 0.84]\n"
     ]
    },
    {
     "name": "stderr",
     "output_type": "stream",
     "text": [
      " 68%|███████████████████████████▉             | 340/500 [02:47<01:05,  2.44it/s]"
     ]
    },
    {
     "name": "stdout",
     "output_type": "stream",
     "text": [
      "--- Training --- [threshold, AUC] =  [0.175, 0.976]\n",
      "--- Iteration 340: Training loss --- [Data, Label, Total] = [654537.295728.3, 787.485655.3, 655324.781383.3]\n",
      "!!! pred_type filter\n",
      "--- Training --- [threshold, AUC] =  [0.175, 0.976]\n"
     ]
    },
    {
     "name": "stderr",
     "output_type": "stream",
     "text": [
      " 68%|███████████████████████████▉             | 341/500 [02:48<01:50,  1.44it/s]"
     ]
    },
    {
     "name": "stdout",
     "output_type": "stream",
     "text": [
      "--- Validation --- [threshold, AUC, Accuracy, F score] =  [0.16, 0.98, 0.961, 0.84]\n"
     ]
    },
    {
     "name": "stderr",
     "output_type": "stream",
     "text": [
      " 70%|████████████████████████████▋            | 350/500 [02:52<00:58,  2.57it/s]"
     ]
    },
    {
     "name": "stdout",
     "output_type": "stream",
     "text": [
      "--- Training --- [threshold, AUC] =  [0.175, 0.976]\n",
      "--- Iteration 350: Training loss --- [Data, Label, Total] = [653444.126512.3, 789.122981.3, 654233.249493.3]\n",
      "!!! pred_type filter\n",
      "--- Training --- [threshold, AUC] =  [0.175, 0.976]\n"
     ]
    },
    {
     "name": "stderr",
     "output_type": "stream",
     "text": [
      " 70%|████████████████████████████▊            | 351/500 [02:53<01:42,  1.45it/s]"
     ]
    },
    {
     "name": "stdout",
     "output_type": "stream",
     "text": [
      "--- Validation --- [threshold, AUC, Accuracy, F score] =  [0.159, 0.98, 0.96, 0.838]\n"
     ]
    },
    {
     "name": "stderr",
     "output_type": "stream",
     "text": [
      " 72%|█████████████████████████████▌           | 360/500 [02:56<00:49,  2.81it/s]"
     ]
    },
    {
     "name": "stdout",
     "output_type": "stream",
     "text": [
      "--- Training --- [threshold, AUC] =  [0.175, 0.976]\n",
      "--- Iteration 360: Training loss --- [Data, Label, Total] = [652358.520648.3, 790.722696.3, 653149.243344.3]\n",
      "!!! pred_type filter\n",
      "--- Training --- [threshold, AUC] =  [0.175, 0.976]\n"
     ]
    },
    {
     "name": "stderr",
     "output_type": "stream",
     "text": [
      " 72%|█████████████████████████████▌           | 361/500 [02:58<01:33,  1.48it/s]"
     ]
    },
    {
     "name": "stdout",
     "output_type": "stream",
     "text": [
      "--- Validation --- [threshold, AUC, Accuracy, F score] =  [0.159, 0.98, 0.96, 0.838]\n"
     ]
    },
    {
     "name": "stderr",
     "output_type": "stream",
     "text": [
      " 74%|██████████████████████████████▎          | 370/500 [03:01<00:44,  2.95it/s]"
     ]
    },
    {
     "name": "stdout",
     "output_type": "stream",
     "text": [
      "--- Training --- [threshold, AUC] =  [0.174, 0.976]\n",
      "--- Iteration 370: Training loss --- [Data, Label, Total] = [651280.261895.3, 792.297585.3, 652072.559480.3]\n",
      "!!! pred_type filter\n",
      "--- Training --- [threshold, AUC] =  [0.174, 0.976]\n"
     ]
    },
    {
     "name": "stderr",
     "output_type": "stream",
     "text": [
      " 74%|██████████████████████████████▍          | 371/500 [03:02<01:26,  1.49it/s]"
     ]
    },
    {
     "name": "stdout",
     "output_type": "stream",
     "text": [
      "--- Validation --- [threshold, AUC, Accuracy, F score] =  [0.159, 0.98, 0.96, 0.838]\n"
     ]
    },
    {
     "name": "stderr",
     "output_type": "stream",
     "text": [
      " 76%|███████████████████████████████▏         | 380/500 [03:05<00:40,  2.99it/s]"
     ]
    },
    {
     "name": "stdout",
     "output_type": "stream",
     "text": [
      "--- Training --- [threshold, AUC] =  [0.174, 0.976]\n",
      "--- Iteration 380: Training loss --- [Data, Label, Total] = [650209.165765.3, 793.845268.3, 651003.011033.3]\n",
      "!!! pred_type filter\n",
      "--- Training --- [threshold, AUC] =  [0.174, 0.976]\n"
     ]
    },
    {
     "name": "stderr",
     "output_type": "stream",
     "text": [
      " 76%|███████████████████████████████▏         | 381/500 [03:07<01:24,  1.40it/s]"
     ]
    },
    {
     "name": "stdout",
     "output_type": "stream",
     "text": [
      "--- Validation --- [threshold, AUC, Accuracy, F score] =  [0.159, 0.98, 0.96, 0.838]\n"
     ]
    },
    {
     "name": "stderr",
     "output_type": "stream",
     "text": [
      " 78%|███████████████████████████████▉         | 390/500 [03:10<00:41,  2.66it/s]"
     ]
    },
    {
     "name": "stdout",
     "output_type": "stream",
     "text": [
      "--- Training --- [threshold, AUC] =  [0.173, 0.976]\n",
      "--- Iteration 390: Training loss --- [Data, Label, Total] = [649145.054112.3, 795.364969.3, 649940.419081.3]\n",
      "!!! pred_type filter\n",
      "--- Training --- [threshold, AUC] =  [0.173, 0.976]\n"
     ]
    },
    {
     "name": "stderr",
     "output_type": "stream",
     "text": [
      " 78%|████████████████████████████████         | 391/500 [03:11<01:12,  1.50it/s]"
     ]
    },
    {
     "name": "stdout",
     "output_type": "stream",
     "text": [
      "--- Validation --- [threshold, AUC, Accuracy, F score] =  [0.159, 0.98, 0.96, 0.838]\n"
     ]
    },
    {
     "name": "stderr",
     "output_type": "stream",
     "text": [
      " 80%|████████████████████████████████▊        | 400/500 [03:15<00:36,  2.73it/s]"
     ]
    },
    {
     "name": "stdout",
     "output_type": "stream",
     "text": [
      "--- Training --- [threshold, AUC] =  [0.173, 0.976]\n",
      "--- Iteration 400: Training loss --- [Data, Label, Total] = [648087.749062.3, 796.863754.3, 648884.612817.3]\n",
      "!!! pred_type filter\n",
      "--- Training --- [threshold, AUC] =  [0.173, 0.976]\n"
     ]
    },
    {
     "name": "stderr",
     "output_type": "stream",
     "text": [
      " 80%|████████████████████████████████▉        | 401/500 [03:16<01:07,  1.46it/s]"
     ]
    },
    {
     "name": "stdout",
     "output_type": "stream",
     "text": [
      "--- Validation --- [threshold, AUC, Accuracy, F score] =  [0.159, 0.98, 0.96, 0.838]\n"
     ]
    },
    {
     "name": "stderr",
     "output_type": "stream",
     "text": [
      " 82%|█████████████████████████████████▌       | 410/500 [03:19<00:32,  2.74it/s]"
     ]
    },
    {
     "name": "stdout",
     "output_type": "stream",
     "text": [
      "--- Training --- [threshold, AUC] =  [0.173, 0.976]\n",
      "--- Iteration 410: Training loss --- [Data, Label, Total] = [647037.099816.3, 798.331382.3, 647835.431198.3]\n",
      "!!! pred_type filter\n",
      "--- Training --- [threshold, AUC] =  [0.173, 0.976]\n"
     ]
    },
    {
     "name": "stderr",
     "output_type": "stream",
     "text": [
      " 82%|█████████████████████████████████▋       | 411/500 [03:21<00:59,  1.49it/s]"
     ]
    },
    {
     "name": "stdout",
     "output_type": "stream",
     "text": [
      "--- Validation --- [threshold, AUC, Accuracy, F score] =  [0.159, 0.98, 0.96, 0.838]\n"
     ]
    },
    {
     "name": "stderr",
     "output_type": "stream",
     "text": [
      " 84%|██████████████████████████████████▍      | 420/500 [03:24<00:28,  2.82it/s]"
     ]
    },
    {
     "name": "stdout",
     "output_type": "stream",
     "text": [
      "--- Training --- [threshold, AUC] =  [0.177, 0.976]\n",
      "--- Iteration 420: Training loss --- [Data, Label, Total] = [645992.954406.3, 799.780891.3, 646792.735297.3]\n",
      "!!! pred_type filter\n",
      "--- Training --- [threshold, AUC] =  [0.177, 0.976]\n"
     ]
    },
    {
     "name": "stderr",
     "output_type": "stream",
     "text": [
      " 84%|██████████████████████████████████▌      | 421/500 [03:25<00:55,  1.41it/s]"
     ]
    },
    {
     "name": "stdout",
     "output_type": "stream",
     "text": [
      "--- Validation --- [threshold, AUC, Accuracy, F score] =  [0.159, 0.98, 0.961, 0.84]\n"
     ]
    },
    {
     "name": "stderr",
     "output_type": "stream",
     "text": [
      " 86%|███████████████████████████████████▎     | 430/500 [03:30<00:22,  3.05it/s]"
     ]
    },
    {
     "name": "stdout",
     "output_type": "stream",
     "text": [
      "--- Training --- [threshold, AUC] =  [0.177, 0.976]\n",
      "--- Iteration 430: Training loss --- [Data, Label, Total] = [644955.166317.3, 801.207210.3, 645756.373527.3]\n",
      "!!! pred_type filter\n",
      "--- Training --- [threshold, AUC] =  [0.177, 0.976]\n"
     ]
    },
    {
     "name": "stderr",
     "output_type": "stream",
     "text": [
      " 86%|███████████████████████████████████▎     | 431/500 [03:31<00:43,  1.57it/s]"
     ]
    },
    {
     "name": "stdout",
     "output_type": "stream",
     "text": [
      "--- Validation --- [threshold, AUC, Accuracy, F score] =  [0.159, 0.98, 0.961, 0.84]\n"
     ]
    },
    {
     "name": "stderr",
     "output_type": "stream",
     "text": [
      " 88%|████████████████████████████████████     | 440/500 [03:37<00:24,  2.43it/s]"
     ]
    },
    {
     "name": "stdout",
     "output_type": "stream",
     "text": [
      "--- Training --- [threshold, AUC] =  [0.177, 0.976]\n",
      "--- Iteration 440: Training loss --- [Data, Label, Total] = [643923.608192.3, 802.611044.3, 644726.219236.3]\n",
      "!!! pred_type filter\n",
      "--- Training --- [threshold, AUC] =  [0.177, 0.976]\n"
     ]
    },
    {
     "name": "stderr",
     "output_type": "stream",
     "text": [
      " 88%|████████████████████████████████████▏    | 441/500 [03:38<00:41,  1.41it/s]"
     ]
    },
    {
     "name": "stdout",
     "output_type": "stream",
     "text": [
      "--- Validation --- [threshold, AUC, Accuracy, F score] =  [0.159, 0.98, 0.961, 0.84]\n"
     ]
    },
    {
     "name": "stderr",
     "output_type": "stream",
     "text": [
      " 90%|████████████████████████████████████▉    | 450/500 [03:42<00:18,  2.70it/s]"
     ]
    },
    {
     "name": "stdout",
     "output_type": "stream",
     "text": [
      "--- Training --- [threshold, AUC] =  [0.177, 0.976]\n",
      "--- Iteration 450: Training loss --- [Data, Label, Total] = [642898.149678.3, 803.998819.3, 643702.148497.3]\n",
      "!!! pred_type filter\n",
      "--- Training --- [threshold, AUC] =  [0.177, 0.976]\n"
     ]
    },
    {
     "name": "stderr",
     "output_type": "stream",
     "text": [
      " 90%|████████████████████████████████████▉    | 451/500 [03:43<00:33,  1.44it/s]"
     ]
    },
    {
     "name": "stdout",
     "output_type": "stream",
     "text": [
      "--- Validation --- [threshold, AUC, Accuracy, F score] =  [0.158, 0.98, 0.961, 0.84]\n"
     ]
    },
    {
     "name": "stderr",
     "output_type": "stream",
     "text": [
      " 92%|█████████████████████████████████████▋   | 460/500 [03:46<00:14,  2.70it/s]"
     ]
    },
    {
     "name": "stdout",
     "output_type": "stream",
     "text": [
      "--- Training --- [threshold, AUC] =  [0.177, 0.976]\n",
      "--- Iteration 460: Training loss --- [Data, Label, Total] = [641878.674566.3, 805.362240.3, 642684.036805.3]\n",
      "!!! pred_type filter\n",
      "--- Training --- [threshold, AUC] =  [0.177, 0.976]\n"
     ]
    },
    {
     "name": "stderr",
     "output_type": "stream",
     "text": [
      " 92%|█████████████████████████████████████▊   | 461/500 [03:48<00:26,  1.47it/s]"
     ]
    },
    {
     "name": "stdout",
     "output_type": "stream",
     "text": [
      "--- Validation --- [threshold, AUC, Accuracy, F score] =  [0.158, 0.98, 0.961, 0.84]\n"
     ]
    },
    {
     "name": "stderr",
     "output_type": "stream",
     "text": [
      " 94%|██████████████████████████████████████▌  | 470/500 [03:50<00:10,  2.91it/s]"
     ]
    },
    {
     "name": "stdout",
     "output_type": "stream",
     "text": [
      "--- Training --- [threshold, AUC] =  [0.177, 0.976]\n",
      "--- Iteration 470: Training loss --- [Data, Label, Total] = [640865.063615.3, 806.709131.3, 641671.772746.3]\n",
      "!!! pred_type filter\n",
      "--- Training --- [threshold, AUC] =  [0.177, 0.976]\n"
     ]
    },
    {
     "name": "stderr",
     "output_type": "stream",
     "text": [
      " 94%|██████████████████████████████████████▌  | 471/500 [03:52<00:19,  1.51it/s]"
     ]
    },
    {
     "name": "stdout",
     "output_type": "stream",
     "text": [
      "--- Validation --- [threshold, AUC, Accuracy, F score] =  [0.158, 0.98, 0.961, 0.84]\n"
     ]
    },
    {
     "name": "stderr",
     "output_type": "stream",
     "text": [
      " 96%|███████████████████████████████████████▎ | 480/500 [03:55<00:06,  2.92it/s]"
     ]
    },
    {
     "name": "stdout",
     "output_type": "stream",
     "text": [
      "--- Training --- [threshold, AUC] =  [0.177, 0.976]\n",
      "--- Iteration 480: Training loss --- [Data, Label, Total] = [639857.208564.3, 808.036799.3, 640665.245363.3]\n",
      "!!! pred_type filter\n",
      "--- Training --- [threshold, AUC] =  [0.177, 0.976]\n"
     ]
    },
    {
     "name": "stderr",
     "output_type": "stream",
     "text": [
      " 96%|███████████████████████████████████████▍ | 481/500 [03:56<00:12,  1.47it/s]"
     ]
    },
    {
     "name": "stdout",
     "output_type": "stream",
     "text": [
      "--- Validation --- [threshold, AUC, Accuracy, F score] =  [0.158, 0.98, 0.961, 0.84]\n"
     ]
    },
    {
     "name": "stderr",
     "output_type": "stream",
     "text": [
      " 98%|████████████████████████████████████████▏| 490/500 [04:00<00:03,  2.75it/s]"
     ]
    },
    {
     "name": "stdout",
     "output_type": "stream",
     "text": [
      "--- Training --- [threshold, AUC] =  [0.177, 0.976]\n",
      "--- Iteration 490: Training loss --- [Data, Label, Total] = [638855.010250.3, 809.353446.3, 639664.363696.3]\n",
      "!!! pred_type filter\n",
      "--- Training --- [threshold, AUC] =  [0.177, 0.976]\n"
     ]
    },
    {
     "name": "stderr",
     "output_type": "stream",
     "text": [
      " 98%|████████████████████████████████████████▎| 491/500 [04:01<00:06,  1.49it/s]"
     ]
    },
    {
     "name": "stdout",
     "output_type": "stream",
     "text": [
      "--- Validation --- [threshold, AUC, Accuracy, F score] =  [0.158, 0.98, 0.961, 0.84]\n"
     ]
    },
    {
     "name": "stderr",
     "output_type": "stream",
     "text": [
      "100%|█████████████████████████████████████████| 500/500 [04:04<00:00,  2.04it/s]\n"
     ]
    },
    {
     "name": "stdout",
     "output_type": "stream",
     "text": [
      "!!! pred_type filter\n",
      "--- Training --- [threshold, AUC] =  [0.177, 0.976]\n"
     ]
    }
   ],
   "source": [
    "# BCD implementation\n",
    "\n",
    "import src.SCMF_BCD\n",
    "\n",
    "r = 10\n",
    "W0_H, W0_W, H0 = src.SCMF_torch.find_initial(X_train.T, y_train0.reshape(1, -1), r = r, generate=\"spectral\")\n",
    "\n",
    "SMF_BCD_class = src.SCMF_BCD.SMF_BCD(X=[X_train.T, y_train0.reshape(1, -1)],  # data, label\n",
    "                                    X_test=[X_test.T, y_test0.reshape(1, -1)],\n",
    "                                    n_components=r,  # =: r = number of columns in dictionary matrices W, W'\n",
    "                                    ini_loading=W0_W,  # Initializatio for [W,W'], W1.shape = [d1, r], W2.shape = [d2, r]\n",
    "                                    ini_code = H0,\n",
    "                                    xi=1,  # weight on label reconstruction error\n",
    "                                    L1_reg = [0,0,0], # L1 regularizer for code H, dictionary W[0], reg param W[1]\n",
    "                                    L2_reg = [0,0,0], # L2 regularizer for code H, dictionary W[0], reg param W[1]\n",
    "                                    nonnegativity=[True,True,False], # nonnegativity constraints on code H, dictionary W[0], reg params W[1]\n",
    "                                    full_dim=False) # if true, dictionary is Id with full dimension --> Pure regression\n",
    "\n",
    "results_dict_new = SMF_BCD_class.fit(iter=500, subsample_size=None,\n",
    "                                        beta = 0,\n",
    "                                        option = \"filter\",\n",
    "                                        search_radius_const=0.1,\n",
    "                                        update_nuance_param=False,\n",
    "                                        if_compute_recons_error=True, if_validate=True)\n",
    "\n",
    "results_dict_new.update({'method': 'SMF-filt'})\n",
    "results_dict_new.update({'Accuracy': round(results_dict.get('Accuracy'),3)})\n",
    "results_dict_new.update({'F_score': round(results_dict.get('F_score'),3)})"
   ]
  },
  {
   "cell_type": "code",
   "execution_count": 9,
   "id": "26fbb228-6705-452d-8be2-93dd61f50b7b",
   "metadata": {},
   "outputs": [
    {
     "data": {
      "image/png": "[encoded data removed]",
      "text/plain": [
       "<Figure size 500x200 with 10 Axes>"
      ]
     },
     "metadata": {},
     "output_type": "display_data"
    },
    {
     "name": "stdout",
     "output_type": "stream",
     "text": [
      "[[-3.51131344 -7.20642683  3.15139288  4.86171342  8.82612072  4.71076809\n",
      "  -1.80165713 -8.6820064   7.24643632 -5.13798242 -5.06678495]]\n"
     ]
    }
   ],
   "source": [
    "src.SCMF_torch.display_dictionary(results_dict_new[\"loading\"][0], grid_shape = [2,5])\n",
    "print(results_dict_new[\"loading\"][1])"
   ]
  }
 ],
 "metadata": {
  "kernelspec": {
   "display_name": "Python 3 (ipykernel)",
   "language": "python",
   "name": "python3"
  },
  "language_info": {
   "codemirror_mode": {
    "name": "ipython",
    "version": 3
   },
   "file_extension": ".py",
   "mimetype": "text/x-python",
   "name": "python",
   "nbconvert_exporter": "python",
   "pygments_lexer": "ipython3",
   "version": "3.9.0"
  }
 },
 "nbformat": 4,
 "nbformat_minor": 5
}
